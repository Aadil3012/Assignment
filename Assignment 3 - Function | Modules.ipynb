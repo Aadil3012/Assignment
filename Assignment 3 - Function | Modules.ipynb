{
 "cells": [
  {
   "cell_type": "markdown",
   "id": "084ef6b9",
   "metadata": {},
   "source": [
    "# Ques1 - Write a Python function to sum all the numbers in a list."
   ]
  },
  {
   "cell_type": "code",
   "execution_count": 6,
   "id": "1334977c",
   "metadata": {},
   "outputs": [],
   "source": [
    "def sum1(list):\n",
    "    sum2 = 0\n",
    "    for i in list:\n",
    "        sum2 = sum2 + i\n",
    "    print(sum2)"
   ]
  },
  {
   "cell_type": "code",
   "execution_count": 7,
   "id": "5cd81982",
   "metadata": {},
   "outputs": [
    {
     "name": "stdout",
     "output_type": "stream",
     "text": [
      "20\n"
     ]
    }
   ],
   "source": [
    "list2 = [1,2,3,4,10]\n",
    "sum1(list2)"
   ]
  },
  {
   "cell_type": "markdown",
   "id": "cb012253",
   "metadata": {},
   "source": [
    "# Ques2 - Write a Python program to reverse a string."
   ]
  },
  {
   "cell_type": "code",
   "execution_count": 29,
   "id": "f6e42e07",
   "metadata": {},
   "outputs": [
    {
     "name": "stdout",
     "output_type": "stream",
     "text": [
      "shagun\n",
      "nugahs\n"
     ]
    }
   ],
   "source": [
    "x = input()\n",
    "def reverse(x):\n",
    "    rev = x[-1:-len(x)-1:-1]\n",
    "    print(rev)\n",
    "\n",
    "reverse(x)"
   ]
  },
  {
   "cell_type": "markdown",
   "id": "505fa361",
   "metadata": {},
   "source": [
    "# Ques3 - Write a Python function that accepts a string and calculate the number of upper case letters and lower case letters."
   ]
  },
  {
   "cell_type": "code",
   "execution_count": 9,
   "id": "6596c5d8",
   "metadata": {},
   "outputs": [
    {
     "name": "stdout",
     "output_type": "stream",
     "text": [
      "Enter the string Hey\n",
      "number of capital letter are 1\n",
      "number of small letter are 2\n"
     ]
    }
   ],
   "source": [
    "x = input('Enter the string ' )\n",
    "capitalcount = 0\n",
    "smallcount = 0\n",
    "for a in range(ord('A'),ord('Z')+1):\n",
    "    if chr(a) in x:\n",
    "        capitalcount = capitalcount + 1\n",
    "for b in range(ord('a'),ord('z')+1):\n",
    "        if chr(b) in x:\n",
    "            smallcount = smallcount + 1\n",
    "        \n",
    "print('number of capital letter are', capitalcount)\n",
    "print('number of small letter are', smallcount)"
   ]
  }
 ],
 "metadata": {
  "kernelspec": {
   "display_name": "Python 3 (ipykernel)",
   "language": "python",
   "name": "python3"
  },
  "language_info": {
   "codemirror_mode": {
    "name": "ipython",
    "version": 3
   },
   "file_extension": ".py",
   "mimetype": "text/x-python",
   "name": "python",
   "nbconvert_exporter": "python",
   "pygments_lexer": "ipython3",
   "version": "3.9.7"
  }
 },
 "nbformat": 4,
 "nbformat_minor": 5
}
