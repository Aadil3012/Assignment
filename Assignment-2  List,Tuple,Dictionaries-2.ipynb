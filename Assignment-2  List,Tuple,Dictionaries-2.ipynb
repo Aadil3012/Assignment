{
 "cells": [
  {
   "cell_type": "code",
   "execution_count": 1,
   "id": "f6b46561",
   "metadata": {},
   "outputs": [],
   "source": [
    "# Ques 2- Write a Python program to print a dictionary whose keys should be the alphabet from a-z and the value should \n",
    "#         be corresponding ASCII values"
   ]
  },
  {
   "cell_type": "code",
   "execution_count": 2,
   "id": "f3d87cae",
   "metadata": {},
   "outputs": [
    {
     "name": "stdout",
     "output_type": "stream",
     "text": [
      "{'a': 97, 'b': 98, 'c': 99, 'd': 100, 'e': 101, 'f': 102, 'g': 103, 'h': 104, 'i': 105, 'j': 106, 'k': 107, 'l': 108, 'm': 109, 'n': 110, 'o': 111, 'p': 112, 'q': 113, 'r': 114, 's': 115, 't': 116, 'u': 117, 'v': 118, 'w': 119, 'x': 120, 'y': 121, 'z': 122}\n"
     ]
    }
   ],
   "source": [
    "list1 = {}\n",
    "for i in range(ord('a'),ord('z')+1):\n",
    "    list1.setdefault(chr(i),i)\n",
    "print(list1)"
   ]
  },
  {
   "cell_type": "code",
   "execution_count": 3,
   "id": "80f431c6",
   "metadata": {},
   "outputs": [],
   "source": [
    "# Ques 1 - Write a Python program to get a list, sorted in increasing order by the last element in each tuple \n",
    "#          from a given list of non-empty tuples\n"
   ]
  },
  {
   "cell_type": "code",
   "execution_count": 1,
   "id": "05208d31",
   "metadata": {},
   "outputs": [
    {
     "name": "stdout",
     "output_type": "stream",
     "text": [
      "[(2, 1), (1, 2), (2, 3), (4, 4), (2, 5)]\n"
     ]
    }
   ],
   "source": [
    "l =  [(2, 5), (1, 2), (4, 4), (2, 3), (2, 1)]\n",
    "m = 0                                        \n",
    "for i in range(0,5):\n",
    "    for j in range(0,5-i-1):\n",
    "        if l[j][1]> l[j+1][1]:\n",
    "            m = l[j]\n",
    "            l[j]=l[j+1]\n",
    "            l[j+1]=m\n",
    "print(l)      "
   ]
  },
  {
   "cell_type": "code",
   "execution_count": null,
   "id": "20ce8138",
   "metadata": {},
   "outputs": [],
   "source": []
  }
 ],
 "metadata": {
  "kernelspec": {
   "display_name": "Python 3 (ipykernel)",
   "language": "python",
   "name": "python3"
  },
  "language_info": {
   "codemirror_mode": {
    "name": "ipython",
    "version": 3
   },
   "file_extension": ".py",
   "mimetype": "text/x-python",
   "name": "python",
   "nbconvert_exporter": "python",
   "pygments_lexer": "ipython3",
   "version": "3.9.7"
  }
 },
 "nbformat": 4,
 "nbformat_minor": 5
}
