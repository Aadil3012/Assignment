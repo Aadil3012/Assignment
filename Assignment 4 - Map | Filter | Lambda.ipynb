{
 "cells": [
  {
   "cell_type": "markdown",
   "id": "267e1ae9",
   "metadata": {},
   "source": [
    "# Ques1- Write a Python program to create a lambda function that adds 25 to a given number passed in as an argument"
   ]
  },
  {
   "cell_type": "code",
   "execution_count": 4,
   "id": "5b2c4fe1",
   "metadata": {},
   "outputs": [
    {
     "data": {
      "text/plain": [
       "35"
      ]
     },
     "execution_count": 4,
     "metadata": {},
     "output_type": "execute_result"
    }
   ],
   "source": [
    "x=25\n",
    "fun = lambda y:y+x\n",
    "fun(10)"
   ]
  },
  {
   "cell_type": "markdown",
   "id": "69c83c89",
   "metadata": {},
   "source": [
    "# Ques2 - Write a Python program to triple all numbers of a given list of integers. Use Python map."
   ]
  },
  {
   "cell_type": "code",
   "execution_count": 8,
   "id": "3bb28b25",
   "metadata": {},
   "outputs": [
    {
     "name": "stdout",
     "output_type": "stream",
     "text": [
      "[3, 6, 9, 12, 15, 18, 21]\n"
     ]
    }
   ],
   "source": [
    "def thrice(y):\n",
    "    x = y+y+y\n",
    "    return x\n",
    "    \n",
    "y = [1, 2, 3, 4, 5, 6, 7]   \n",
    "z = list(map(thrice,y))\n",
    "print(z)"
   ]
  },
  {
   "cell_type": "markdown",
   "id": "4cd9ca49",
   "metadata": {},
   "source": [
    "# Ques3 - Write a Python program to square the elements of a list using map() function."
   ]
  },
  {
   "cell_type": "code",
   "execution_count": 9,
   "id": "cfb2d7a8",
   "metadata": {},
   "outputs": [
    {
     "name": "stdout",
     "output_type": "stream",
     "text": [
      "[16, 25, 4, 81]\n"
     ]
    }
   ],
   "source": [
    "def sqr(x):\n",
    "    y = x*x\n",
    "    return y\n",
    "x = [4, 5, 2, 9]\n",
    "z = list(map(sqr,x))\n",
    "print(z)"
   ]
  },
  {
   "cell_type": "code",
   "execution_count": null,
   "id": "e8e9ac63",
   "metadata": {},
   "outputs": [],
   "source": []
  }
 ],
 "metadata": {
  "kernelspec": {
   "display_name": "Python 3 (ipykernel)",
   "language": "python",
   "name": "python3"
  },
  "language_info": {
   "codemirror_mode": {
    "name": "ipython",
    "version": 3
   },
   "file_extension": ".py",
   "mimetype": "text/x-python",
   "name": "python",
   "nbconvert_exporter": "python",
   "pygments_lexer": "ipython3",
   "version": "3.9.7"
  }
 },
 "nbformat": 4,
 "nbformat_minor": 5
}
