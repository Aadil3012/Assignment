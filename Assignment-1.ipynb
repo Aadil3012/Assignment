{
 "cells": [
  {
   "cell_type": "code",
   "execution_count": 86,
   "id": "f0b483d3",
   "metadata": {},
   "outputs": [
    {
     "name": "stdout",
     "output_type": "stream",
     "text": [
      "0\n",
      "1\n",
      "1\n",
      "2\n",
      "3\n",
      "5\n",
      "8\n",
      "13\n",
      "21\n",
      "34\n"
     ]
    }
   ],
   "source": [
    "# Ques1 - Write a Python program to get the Fibonacci series between 0 to 50\n",
    "a,b =0,1\n",
    "print(a)\n",
    "while b<50:\n",
    "    print(b)\n",
    "    a,b = b,a + b"
   ]
  },
  {
   "cell_type": "code",
   "execution_count": 83,
   "id": "6f3407dd",
   "metadata": {},
   "outputs": [
    {
     "name": "stdout",
     "output_type": "stream",
     "text": [
      "Shagun\n",
      "nugahS"
     ]
    }
   ],
   "source": [
    "# Ques2 - Write a Python program that accepts a word from the user and reverse it.\n",
    "word = input()\n",
    "for i in range(len(word)-1,-1,-1):\n",
    "    print(word[i],end='')"
   ]
  },
  {
   "cell_type": "code",
   "execution_count": 69,
   "id": "e4b9a55f",
   "metadata": {},
   "outputs": [
    {
     "name": "stdout",
     "output_type": "stream",
     "text": [
      "number of even number = 4\n",
      "number of odd numbers =  5\n"
     ]
    }
   ],
   "source": [
    "# Ques3 - Write a Python program to count the number of even and odd numbers from a series of numbers.\n",
    "number = [1,2,3,4,5,6,7,8,9]\n",
    "count_even = 0\n",
    "count_odd = 0\n",
    "for i in number:\n",
    "    if i % 2 == 0:\n",
    "        count_even += 1\n",
    "    else:\n",
    "        count_odd += 1\n",
    "print('number of even number =',count_even)\n",
    "print('number of odd numbers = ',count_odd)"
   ]
  }
 ],
 "metadata": {
  "kernelspec": {
   "display_name": "Python 3 (ipykernel)",
   "language": "python",
   "name": "python3"
  },
  "language_info": {
   "codemirror_mode": {
    "name": "ipython",
    "version": 3
   },
   "file_extension": ".py",
   "mimetype": "text/x-python",
   "name": "python",
   "nbconvert_exporter": "python",
   "pygments_lexer": "ipython3",
   "version": "3.9.7"
  }
 },
 "nbformat": 4,
 "nbformat_minor": 5
}
